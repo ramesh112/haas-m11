{
 "cells": [
  {
   "cell_type": "markdown",
   "metadata": {},
   "source": [
    "# What drives the price of a car?\n",
    "\n",
    "![Kurt used car dealership](images/kurt.jpeg)"
   ]
  },
  {
   "cell_type": "markdown",
   "metadata": {},
   "source": [
    "**OVERVIEW**\n",
    "\n",
    "This notebook explores a large dataset of used cars. Your goal is to find out what features drive the price of a car and to recommend to a used car dealership what characteristics consumers truly value."
   ]
  },
  {
   "cell_type": "markdown",
   "metadata": {},
   "source": [
    "## CRISP-DM Framework\n",
    "\n",
    "* Business Understanding\n",
    "* Data Understanding\n",
    "* Data Preparation\n",
    "* Modeling\n",
    "* Evaluation\n",
    "* Deployment"
   ]
  },
  {
   "cell_type": "markdown",
   "metadata": {},
   "source": [
    "## 1. Data Loading and Initial Exploration"
   ]
  },
  {
   "cell_type": "code",
   "metadata": {},
   "source": [
    "import pandas as pd\n",
    "import numpy as np\n",
    "import matplotlib.pyplot as plt\n",
    "import seaborn as sns\n",
    "sns.set(style='whitegrid', palette='muted', font_scale=1.2)\n",
    "\n",
    "# Load data\n",
    "df = pd.read_csv('vehicles.csv')\n",
    "print(f\"Shape: {df.shape}\")\n",
    "df.head()"
   ],
   "execution_count": null,
   "outputs": []
  },
  {
   "cell_type": "markdown",
   "metadata": {},
   "source": [
    "## 2. Data Cleaning & Preprocessing"
   ]
  },
  {
   "cell_type": "code",
   "metadata": {},
   "source": [
    "# Inspect missing values\n",
    "missing = df.isnull().mean().sort_values(ascending=False)\n",
    "print(missing[missing > 0])\n",
    "\n",
    "# Drop rows with no price or year (since these are essential for analysis)\n",
    "df = df.dropna(subset=['price', 'year'])\n",
    "# Remove obviously bad price entries (e.g., price = 0 or unrealistic values)\n",
    "df = df[df['price'].between(100, 200000)]\n",
    "\n",
    "# Basic type conversions\n",
    "df['year'] = df['year'].astype(int)\n",
    "# Fill non-critical missing fields with 'unknown' (can also use more advanced imputation)\n",
    "for col in ['manufacturer', 'model', 'condition', 'cylinders', 'fuel', 'transmission', 'drive', 'size', 'type', 'paint_color', 'state', 'title_status']:\n",
    "    df[col] = df[col].fillna('unknown')"
   ],
   "execution_count": null,
   "outputs": []
  },
  {
   "cell_type": "markdown",
   "metadata": {},
   "source": [
    "## 3. Exploratory Data Analysis (EDA)\n",
    "### 3.1 Price Distribution"
   ]
  },
  {
   "cell_type": "code",
   "metadata": {},
   "source": [
    "plt.figure(figsize=(10,5))\n",
    "sns.histplot(df['price'], bins=60, kde=True)\n",
    "plt.title('Price Distribution')\n",
    "plt.xlabel('Price')\n",
    "plt.xlim(0, 70000)\n",
    "plt.show()"
   ],
   "execution_count": null,
   "outputs": []
  },
  {
   "cell_type": "markdown",
   "metadata": {},
   "source": [
    "### 3.2 Relationship with Quantitative Features"
   ]
  },
  {
   "cell_type": "code",
   "metadata": {},
   "source": [
    "plt.figure(figsize=(10,5))\n",
    "sns.scatterplot(data=df, x='year', y='price', alpha=0.2)\n",
    "plt.title('Price vs Year')\n",
    "plt.show()"
   ],
   "execution_count": null,
   "outputs": []
  },
  {
   "cell_type": "code",
   "metadata": {},
   "source": [
    "# Odometer (mileage) typically also matters\n",
    "sns.scatterplot(data=df[df['odometer'].notnull()], x='odometer', y='price', alpha=0.2)\n",
    "plt.title('Price vs Odometer')\n",
    "plt.show()"
   ],
   "execution_count": null,
   "outputs": []
  },
  {
   "cell_type": "markdown",
   "metadata": {},
   "source": [
    "### 3.3 Categorical Features"
   ]
  },
  {
   "cell_type": "code",
   "metadata": {},
   "source": [
    "# Mean price by manufacturer\n",
    "top_makes = df['manufacturer'].value_counts().head(10).index\n",
    "sns.boxplot(data=df[df['manufacturer'].isin(top_makes)], x='manufacturer', y='price')\n",
    "plt.xticks(rotation=45)\n",
    "plt.title('Price by Manufacturer')\n",
    "plt.show()"
   ],
   "execution_count": null,
   "outputs": []
  },
  {
   "cell_type": "code",
   "metadata": {},
   "source": [
    "# Transmission, fuel, drive type\n",
    "for col in ['condition', 'fuel', 'transmission', 'drive', 'type']:\n",
    "    plt.figure(figsize=(8,4))\n",
    "    sns.boxplot(data=df, x=col, y='price')\n",
    "    plt.xticks(rotation=45)\n",
    "    plt.title(f'Price by {col.capitalize()}')\n",
    "    plt.show()"
   ],
   "execution_count": null,
   "outputs": []
  },
  {
   "cell_type": "markdown",
   "metadata": {},
   "source": [
    "## 4. Feature Engineering & Modeling\n",
    "We'll build a regression model to estimate price using the most informative features."
   ]
  },
  {
   "cell_type": "code",
   "metadata": {},
   "source": [
    "# Simple feature selection and encoding (for brevity; expand for deployment)\n",
    "from sklearn.model_selection import train_test_split\n",
    "from sklearn.preprocessing import OneHotEncoder, StandardScaler\n",
    "from sklearn.compose import ColumnTransformer\n",
    "from sklearn.pipeline import Pipeline\n",
    "from sklearn.linear_model import Ridge\n",
    "from sklearn.metrics import mean_squared_error, r2_score\n",
    "\n",
    "# Pick features\n",
    "features = ['year', 'odometer', 'manufacturer', 'condition', 'fuel', 'transmission', 'drive', 'type']\n",
    "X = df[features]\n",
    "y = df['price']\n",
    "\n",
    "numeric_features = ['year', 'odometer']\n",
    "categorical_features = list(set(features) - set(numeric_features))\n",
    "\n",
    "preprocessor = ColumnTransformer([\n",
    "    ('num', StandardScaler(), numeric_features),\n",
    "    ('cat', OneHotEncoder(handle_unknown='ignore'), categorical_features)\n",
    "])\n",
    "\n",
    "model = Pipeline([\n",
    "    ('pre', preprocessor),\n",
    "    ('reg', Ridge(alpha=3))\n",
    "])\n",
    "\n",
    "X_train, X_test, y_train, y_test = train_test_split(X, y, test_size=0.2, random_state=42)\n",
    "model.fit(X_train, y_train)\n",
    "y_pred = model.predict(X_test)\n",
    "print(f\"Test RMSE: {np.sqrt(mean_squared_error(y_test, y_pred)):.2f}\")\n",
    "print(f\"Test R2: {r2_score(y_test, y_pred):.2f}\")"
   ],
   "execution_count": null,
   "outputs": []
  },
  {
   "cell_type": "markdown",
   "metadata": {},
   "source": [
    "## 5. What features most drive price? (Interpretation)"
   ]
  },
  {
   "cell_type": "code",
   "metadata": {},
   "source": [
    "# Extract feature importances from Ridge coefficients (illustrative; more robust: permutation importance)\n",
    "feature_names = numeric_features.copy()\n",
    "enc = model.named_steps['pre'].named_transformers_['cat']\n",
    "feature_names.extend(enc.get_feature_names_out(categorical_features))\n",
    "\n",
    "coefs = model.named_steps['reg'].coef_\n",
    "top_idx = np.argsort(np.abs(coefs))[-10:][::-1]\n",
    "for i in top_idx:\n",
    "    print(f\"{feature_names[i]}: {coefs[i]:.2f}\")"
   ],
   "execution_count": null,
   "outputs": []
  },
  {
   "cell_type": "markdown",
   "metadata": {},
   "source": [
    "## 6. Conclusions & Recommendations\n",
    "\n",
    "**Key findings:**\n",
    "\n",
    " * Newer cars and those with lower mileage are more expensive.\n",
    " * Certain manufacturers and models command higher prices (e.g., luxury, pickup trucks).\n",
    " * \"Condition\", \"drive type\" (e.g., 4wd), and fuel type matter to consumers.\n",
    " * Transmission and car type also affect value.\n",
    "\n",
    "**Recommendations to the dealership:**\n",
    " * Focus on sourcing vehicles with low mileage and newer model years.\n",
    " * Stock more in-demand types (e.g. pickups, SUVs) and popular manufacturers according to local trends.\n",
    " * Price premium for \"excellent\" condition listings is supported by data.\n",
    " * Consider upselling value-added features such as 4wd or premium transmission types.\n",
    "\n",
    "Expand with deeper analysis (e.g., feature interactions, geographic price differences) for deployment."
   ]
  }
 ],
 "metadata": {
  "kernelspec": {
   "display_name": "Python 3",
   "language": "python",
   "name": "python3"
  },
  "language_info": {
   "name": "python",
   "version": "3.10"
  }
 },
 "nbformat": 4,
 "nbformat_minor": 2
}
